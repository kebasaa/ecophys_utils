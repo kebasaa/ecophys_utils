{
 "cells": [
  {
   "cell_type": "markdown",
   "id": "cad67a1a-7b63-4ee8-90c5-ee0a4bd4d85a",
   "metadata": {},
   "source": [
    "# Example: EC data\n"
   ]
  },
  {
   "cell_type": "code",
   "execution_count": null,
   "id": "28bc8183-c8e1-4906-ad69-7ee4bc92029b",
   "metadata": {},
   "outputs": [],
   "source": [
    "import pandas as pd\n",
    "import numpy as np\n",
    "import glob\n",
    "\n",
    "import sys\n",
    "sys.path.append(\"C:/Users/my_user/Documents/Github/ecophys_utils/\")\n",
    "from ecophys_utils import *"
   ]
  },
  {
   "cell_type": "code",
   "execution_count": null,
   "id": "71ad9782-80c0-42ce-9300-613439f34113",
   "metadata": {},
   "outputs": [],
   "source": [
    "# Data location\n",
    "project_path = './'\n",
    "data_path = project_path + '../data/'\n",
    "\n",
    "# Input path\n",
    "ec_path     = data_path + 'EC/'\n",
    "\n",
    "# Define the location\n",
    "lon = 10\n",
    "lat = -20\n",
    "alt = 100\n",
    "timezone = 'Africa/Johannesburg'  # Adjust based on the location"
   ]
  },
  {
   "cell_type": "code",
   "execution_count": null,
   "id": "50c24614-568e-488d-90a9-7c8441728e5f",
   "metadata": {},
   "outputs": [],
   "source": [
    "print('Load data:')\n",
    "df = load_all_eddypro(ec_path, dataset='full_output')\n",
    "biomet = load_all_eddypro(ec_path, dataset='biomet')\n",
    "df = df.merge(biomet, how='left', on='timestamp')\n",
    "\n",
    "print('Clean up data:')\n",
    "df['Tau']      = flagged_data_removal_ep(df, 'Tau', (df['qc_Tau'] >= 2))\n",
    "df['H']        = flagged_data_removal_ep(df, 'H', (df['qc_H'] >= 2))\n",
    "df['LE']       = flagged_data_removal_ep(df, 'LE', (df['qc_LE'] >= 2))\n",
    "df['co2_flux'] = flagged_data_removal_ep(df, 'co2_flux', (df['qc_co2_flux'] >= 2))\n",
    "df['h2o_flux'] = flagged_data_removal_ep(df, 'h2o_flux', (df['h2o_flux'] >= 2))\n",
    "\n",
    "print('Done...')"
   ]
  },
  {
   "cell_type": "code",
   "execution_count": null,
   "id": "3ebf6f69-0ac1-475f-b356-6896d46a44c6",
   "metadata": {},
   "outputs": [],
   "source": [
    "print('  - Calculating Day/Night')\n",
    "# Apply the function to create the day-night column\n",
    "df['day_night'] = is_day(df['timestamp'], lat=lat, lon=lon, tz=timezone)\n",
    "\n",
    "df['nee'] = calculate_nee(df['co2_flux'], df['co2_strg'])\n",
    "\n",
    "print('Done...')"
   ]
  },
  {
   "cell_type": "markdown",
   "id": "318e6fce-2124-4250-b382-7dad66f8ae65",
   "metadata": {},
   "source": [
    "### $u_*$ filtering\n",
    "\n",
    "From Papale et al. (2006):\n",
    "- Only night-time data below the threshold was dismissed\n",
    "- For the determination of the $u_*$ threshold, the data set is split into six temperature classes of equal sample size (according to quantiles).\n",
    "- For each temperature class, the set is split into 20 equally sized $u_*$ classes.\n",
    "- The threshold is defined as the $u_*$-class where the average night-time flux reaches more than 99% of the average flux at $u_*$-classes that are higher than the current class.\n",
    "- The threshold is only accepted if for the temperature class, temperature and $u_*$ are not or only weakly correlated ($|r|<0.4$).\n",
    "- The final threshold is defined as the median of the thresholds of the (up to) six temperature classes.\n",
    "\n",
    "This procedure is applied to the subsets of four 3-month periods (January–March, April–June, JulySeptember and October–December) to account for seasonal variation of vegetation structure.\n",
    "\n",
    "For each period, the $u_*$-threshold is reported, but the whole data set is filtered according to the highest threshold found (conservative approach). In cases where no $u_*$-threshold could be found, it is set to $0.4 m s^{-1}$. A minimum threshold is set to $0.1 m s^{-1}$ for forest canopies and $0.01 m s^{-1}$ for short vegetation sites that commonly have lower u∗ values (Papale et al. 2006)."
   ]
  },
  {
   "cell_type": "code",
   "execution_count": null,
   "id": "3ce02bca-b4f8-405e-9126-b92118ded5b0",
   "metadata": {},
   "outputs": [],
   "source": [
    "# Add year variable\n",
    "df['year'] = df['timestamp'].dt.year\n",
    "df['season'] = create_season_southern_hemisphere(df['timestamp'])\n",
    "\n",
    "# Split in before & after the fire\n",
    "df_prefire  = df.loc[df['timestamp'] <= '2021-03-01']\n",
    "df_postfire = df.loc[df['timestamp'] > '2021-03-01']\n",
    "\n",
    "# Calculate seasonal thresholds\n",
    "thresholds_prefire  = create_seasonal_uStar_threshold_list(df_prefire, groupby=['year', 'season'])\n",
    "thresholds_postfire = create_seasonal_uStar_threshold_list(df_postfire, groupby=['year', 'season'])\n",
    "\n",
    "# Calculate overall threshold\n",
    "threshold_prefire  = calculate_overall_uStar_threshold(thresholds_prefire, missing_fraction = 0.75, use_mean=True)\n",
    "threshold_postfire = calculate_overall_uStar_threshold(thresholds_postfire, missing_fraction = 0.75, use_mean=True)\n",
    "print('Pre-fire u* threshold:  ', threshold_prefire)\n",
    "print('Post-fire u* threshold: ', threshold_postfire)\n",
    "\n",
    "# Apply thresholds, remove NEE, LE, H\n",
    "df['nee_f'] = df['nee']\n",
    "df['co2_flux_f'] = df['co2_flux']\n",
    "df['co2_strg_f'] = df['co2_strg']\n",
    "df['h2o_flux_f'] = df['h2o_flux']\n",
    "df['H_f'] = df['H']\n",
    "df['LE_f'] = df['LE']\n",
    "df.loc[(df['timestamp'] <= '2021-03-01') & (df['u*'] <= threshold_prefire), 'nee_f'] = np.nan\n",
    "df.loc[(df['timestamp'] > '2021-03-01') & (df['u*'] <= threshold_postfire), 'nee_f'] = np.nan\n",
    "df.loc[(df['timestamp'] <= '2021-03-01') & (df['u*'] <= threshold_prefire), 'co2_flux_f'] = np.nan\n",
    "df.loc[(df['timestamp'] > '2021-03-01') & (df['u*'] <= threshold_postfire), 'co2_flux_f'] = np.nan\n",
    "df.loc[(df['timestamp'] <= '2021-03-01') & (df['u*'] <= threshold_prefire), 'co2_strg_f'] = np.nan\n",
    "df.loc[(df['timestamp'] > '2021-03-01') & (df['u*'] <= threshold_postfire), 'co2_strg_f'] = np.nan\n",
    "df.loc[(df['timestamp'] <= '2021-03-01') & (df['u*'] <= threshold_prefire), 'h2o_flux_f'] = np.nan\n",
    "df.loc[(df['timestamp'] > '2021-03-01') & (df['u*'] <= threshold_postfire), 'h2o_flux_f'] = np.nan\n",
    "df.loc[(df['timestamp'] <= '2021-03-01') & (df['u*'] <= threshold_prefire), 'H_f'] = np.nan\n",
    "df.loc[(df['timestamp'] > '2021-03-01') & (df['u*'] <= threshold_postfire), 'H_f'] = np.nan\n",
    "df.loc[(df['timestamp'] <= '2021-03-01') & (df['u*'] <= threshold_prefire), 'LE_f'] = np.nan\n",
    "df.loc[(df['timestamp'] > '2021-03-01') & (df['u*'] <= threshold_postfire), 'LE_f'] = np.nan\n",
    "\n",
    "print('Done applying u* filter...')"
   ]
  },
  {
   "cell_type": "markdown",
   "id": "3cd8fe59-03ae-4a13-8cd1-7119f405e2b3",
   "metadata": {},
   "source": [
    "### Simplest Respiration estimation"
   ]
  },
  {
   "cell_type": "code",
   "execution_count": null,
   "id": "b6bd011a-1ab1-45bd-840e-1c9000852c01",
   "metadata": {},
   "outputs": [],
   "source": [
    "# Simple interpolation, only valid in tropics\n",
    "df['reco_simple_interp'] = respiration_from_nighttime_simple_interpolated(df, dn_col='day_night', nee_col='nee_f')\n",
    "df['reco_simple_blocks'] = respiration_from_nighttime_simple_blocks(df, dn_col='day_night', nee_col='nee_f')\n",
    "\n",
    "df['gpp'] = calculate_gpp(df['nee_f'], df['reco_simple_interp'])"
   ]
  },
  {
   "cell_type": "code",
   "execution_count": null,
   "id": "e8098ed4-e72e-46be-b7a6-2600f6051500",
   "metadata": {},
   "outputs": [],
   "source": []
  }
 ],
 "metadata": {
  "kernelspec": {
   "display_name": "dp",
   "language": "python",
   "name": "dp"
  },
  "language_info": {
   "codemirror_mode": {
    "name": "ipython",
    "version": 3
   },
   "file_extension": ".py",
   "mimetype": "text/x-python",
   "name": "python",
   "nbconvert_exporter": "python",
   "pygments_lexer": "ipython3",
   "version": "3.11.5"
  }
 },
 "nbformat": 4,
 "nbformat_minor": 5
}
